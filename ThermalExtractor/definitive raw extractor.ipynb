{
 "cells": [
  {
   "cell_type": "code",
   "execution_count": 1,
   "id": "73833064-2634-4724-a454-67029cd2211f",
   "metadata": {},
   "outputs": [],
   "source": [
    "#libraries\n",
    "import numpy as np\n",
    "import cv2\n",
    "import os\n",
    "from matplotlib import pyplot as plt\n",
    "from PIL import Image\n",
    "from pyometiff import OMETIFFReader\n",
    "import tifffile as tif\n",
    "import pandas as pd\n",
    "import glob\n",
    "from math import sqrt, exp, log\n",
    "import io\n",
    "import time\n",
    "import subprocess\n",
    "import re\n",
    "from tqdm.notebook import tqdm\n",
    "import fnmatch\n",
    "import random\n",
    "import json"
   ]
  },
  {
   "cell_type": "code",
   "execution_count": 2,
   "id": "b331fee1-12d9-4f86-98bd-07c5800c7833",
   "metadata": {},
   "outputs": [],
   "source": [
    "exiftool_path = \"exiftool\""
   ]
  },
  {
   "cell_type": "code",
   "execution_count": 10,
   "id": "203b7d74-b1fe-4fac-92d0-9a60f98c2b56",
   "metadata": {},
   "outputs": [],
   "source": [
    "##CREATE DIR\n",
    "path0 = r\"original\"\n",
    "path1 = r\"raw\"\n",
    "path2 = r\"processed\"\n",
    "path3 = r\"thermal\"\n",
    "\n",
    "n = [path0, path1, path2, path3]\n",
    "\n",
    "for i in list(n):\n",
    "    if not os.path.exists(i):\n",
    "        os.mkdir(i)"
   ]
  },
  {
   "cell_type": "code",
   "execution_count": 20,
   "id": "eb63d626-9317-4eb2-9559-b69c6e84e69d",
   "metadata": {},
   "outputs": [],
   "source": [
    "#RENAME FILES\n",
    "i = 0\n",
    "for filename in glob.glob(os.path.join(path0, \"*.jpg\")):\n",
    "    if not re.search(\"img-\\d\\d\\d\" + re.escape(ext) + \"$\", filename):\n",
    "        while True:\n",
    "            newname = os.path.join(path0, \"img-{:03d}{}\".format(i, \".jpg\"))\n",
    "            if os.path.exists(newname):\n",
    "                i+=1\n",
    "            else:\n",
    "                break\n",
    "        #print('renaming \"%s\" to \"%s\"...' % (filename, newname))\n",
    "        os.rename(filename, newname)"
   ]
  },
  {
   "cell_type": "code",
   "execution_count": 24,
   "id": "0080a10e-0d2b-407e-8f80-9c2bb4b20001",
   "metadata": {},
   "outputs": [],
   "source": [
    "#ON FLIR CAMERAS PNG RAW ARRAYS REQUIRE BYTE INVERSION, TIFF DOES NOT\n",
    "def raw_xtractor(filename):\n",
    "    exiftool_path = \"exiftool\"\n",
    "    raw_thermal_bytes = subprocess.check_output([exiftool_path, \"-RawThermalImage\", \"-b\", filename]) \n",
    "    thermal_img_stream = io.BytesIO(raw_thermal_bytes)\n",
    "    thermal_img = Image.open(thermal_img_stream)\n",
    "    thermal_np = np.array(thermal_img)\n",
    "    if thermal_img.format == \"PNG\":\n",
    "        thermal_np = np.floor(thermal_np/256) + np.mod(thermal_np, 256) * 256\n",
    "        img = np.array(thermal_np, dtype = \"uint16\")\n",
    "        img = Image.fromarray(img)\n",
    "        basename = os.path.splitext(os.path.basename(filename))[0]\n",
    "        img.save(\"raw/\" + basename+\".png\")\n",
    "    else:\n",
    "        thermal_np = np.array(thermal_img)\n",
    "        img = np.array(thermal_np, dtype = \"uint16\")\n",
    "        img = Image.fromarray(img)\n",
    "        basename = os.path.splitext(os.path.basename(filename))[0]\n",
    "        img.save(\"raw/\" + basename+\".png\")"
   ]
  },
  {
   "cell_type": "code",
   "execution_count": 25,
   "id": "bb50a4f7-4f88-42bd-ac76-8e331698f36b",
   "metadata": {},
   "outputs": [],
   "source": [
    "#PROCESSING FOR SEGMENTATION\n",
    "def imgprocessor(filename):\n",
    "    for filename in glob.iglob(os.path.join(path1, \"*.png\")):\n",
    "        img = cv2.imread(filename, -1)\n",
    "        img_8bits = cv2.normalize(img, None, 0, 255, cv2.NORM_MINMAX, dtype = cv2.CV_8U)\n",
    "        basename = os.path.splitext(os.path.basename(filename))[0]\n",
    "        cv2.imwrite(os.path.join(path2, basename+\"_\"+\"8bits\"+\".png\"),img_8bits) "
   ]
  },
  {
   "cell_type": "code",
   "execution_count": 26,
   "id": "b9dcc675-69f0-4dc0-8464-49da13dccc03",
   "metadata": {},
   "outputs": [
    {
     "data": {
      "application/vnd.jupyter.widget-view+json": {
       "model_id": "bb0e22b6eacc4ac085091168681d97c0",
       "version_major": 2,
       "version_minor": 0
      },
      "text/plain": [
       "  0%|          | 0/2 [00:00<?, ?it/s]"
      ]
     },
     "metadata": {},
     "output_type": "display_data"
    }
   ],
   "source": [
    "original_images = []\n",
    "for f in tqdm(glob.glob(os.path.join(path0, \"*.jpg\"))):\n",
    "    or_img = cv2.imread(f, -1)\n",
    "    raw_img = raw_xtractor(f)\n",
    "    proc_img = imgprocessor(raw_img)\n",
    "    original_images.append(np.array(or_img))"
   ]
  },
  {
   "cell_type": "code",
   "execution_count": 114,
   "id": "840785ac-cd7f-4ee3-bc19-36c5bddc3334",
   "metadata": {},
   "outputs": [
    {
     "name": "stdout",
     "output_type": "stream",
     "text": [
      "ExifTool Version Number : 12.30\n",
      "File Name : AF.jpg\n",
      "Directory : .\n",
      "File Size : 288 KiB\n",
      "File Modification Date/Time : 00\n",
      "File Access Date/Time : 00\n",
      "File Creation Date/Time : 00\n",
      "File Permissions : -rw-rw-rw-\n",
      "File Type : JPEG\n",
      "File Type Extension : jpg\n",
      "MIME Type : image/jpeg\n",
      "JFIF Version : 1.01\n",
      "Exif Byte Order : Little-endian (Intel, II)\n",
      "Make : FLIR Systems AB\n",
      "Camera Model Name : FLIR T530\n",
      "Orientation : Horizontal (normal)\n",
      "X Resolution : 72\n",
      "Y Resolution : 72\n",
      "Resolution Unit : inches\n",
      "Software : 6.4.62\n",
      "Modify Date : 39\n",
      "Y Cb Cr Positioning : Centered\n",
      "Exposure Time : 1/58\n",
      "Exif Version : 0220\n",
      "Create Date : 39\n",
      "Components Configuration : -, Cr, Cb, Y\n",
      "Subject Distance : 1 m\n",
      "Focal Length : 10.3 mm\n",
      "Image Temperature Max : 309\n",
      "Image Temperature Min : 299\n",
      "Flashpix Version : 0100\n",
      "Color Space : sRGB\n",
      "Exif Image Width : 640\n",
      "Exif Image Height : 480\n",
      "Digital Zoom Ratio : 1\n",
      "Image Unique ID : A79450F20D14455B6F56717B6CCB7625\n",
      "Compression : JPEG (old-style)\n",
      "Thumbnail Offset : 1898\n",
      "Thumbnail Length : 6398\n",
      "Creator Software : \n",
      "Emissivity : 0.95\n",
      "Object Distance : 1.00 m\n",
      "Reflected Apparent Temperature : 20.0 C\n",
      "Atmospheric Temperature : 20.0 C\n",
      "IR Window Temperature : 20.0 C\n",
      "IR Window Transmission : 1.00\n",
      "Relative Humidity : 50.0 %\n",
      "Planck R1 : 16951.797\n",
      "Planck B : 1435.1\n",
      "Planck F : 1\n",
      "Atmospheric Trans Alpha 1 : 0.000000\n",
      "Atmospheric Trans Alpha 2 : 0.000000\n",
      "Atmospheric Trans Beta 1 : 0.003180\n",
      "Atmospheric Trans Beta 2 : 0.003180\n",
      "Atmospheric Trans X : 0.732000\n",
      "Camera Temperature Range Max : 120.0 C\n",
      "Camera Temperature Range Min : -20.0 C\n",
      "Camera Temperature Max Clip : 130.0 C\n",
      "Camera Temperature Min Clip : -40.0 C\n",
      "Camera Temperature Max Warn : 120.0 C\n",
      "Camera Temperature Min Warn : -20.0 C\n",
      "Camera Temperature Max Saturated : 150.0 C\n",
      "Camera Temperature Min Saturated : -60.0 C\n",
      "Camera Model : FLIR T530\n",
      "Camera Part Number : 79303-0101\n",
      "Camera Serial Number : 79304526\n",
      "Camera Software : 40.0.0\n",
      "Lens Model : FOL10\n",
      "Lens Part Number : T199104\n",
      "Lens Serial Number : 77705243\n",
      "Field Of View : 41.9 deg\n",
      "Filter Model : \n",
      "Filter Part Number : \n",
      "Filter Serial Number : \n",
      "Planck O : -5123\n",
      "Planck R2 : 0.011565289\n",
      "Raw Value Range Min : 6871\n",
      "Raw Value Range Max : 56177\n",
      "Raw Value Median : 18420\n",
      "Raw Value Range : 1961\n",
      "Date/Time Original : 00\n",
      "Focus Step Count : 49172\n",
      "Focus Distance : 0.3 m\n",
      "Frame Rate : 30\n",
      "Palette Colors : 224\n",
      "Above Color : 170 128 128\n",
      "Below Color : 60 128 128\n",
      "Overflow Color : 67 216 98\n",
      "Underflow Color : 41 110 240\n",
      "Isotherm 1 Color : 100 128 128\n",
      "Isotherm 2 Color : 150 32 32\n",
      "Palette Method : 0\n",
      "Palette Stretch : 3\n",
      "Palette File Name : /FLIR/usr/etc/rainHC.pal\n",
      "Palette Name : Rainbow HC\n",
      "Palette : (Binary data 672 bytes, use -b option to extract)\n",
      "Raw Thermal Image Width : 320\n",
      "Raw Thermal Image Height : 240\n",
      "Raw Thermal Image Type : PNG\n",
      "Raw Thermal Image : (Binary data 72568 bytes, use -b option to extract)\n",
      "Real 2 IR : 1.26305866241455\n",
      "Offset X : -13\n",
      "Offset Y : -99\n",
      "PiP X1 : 0\n",
      "PiP X2 : 320\n",
      "PiP Y1 : 0\n",
      "PiP Y2 : 240\n",
      "GPS Valid : No\n",
      "GPS Map Datum : WGS84\n",
      "Embedded Image Width : 1280\n",
      "Embedded Image Height : 960\n",
      "Embedded Image Type : JPG\n",
      "Embedded Image : (Binary data 127071 bytes, use -b option to extract)\n",
      "Image Width : 640\n",
      "Image Height : 480\n",
      "Encoding Process : Baseline DCT, Huffman coding\n",
      "Bits Per Sample : 8\n",
      "Color Components : 3\n",
      "Y Cb Cr Sub Sampling : 0 (2 2)\n",
      "Image Size : 640x480\n",
      "Megapixels : 0.307\n",
      "Shutter Speed : 1/58\n",
      "Thumbnail Image : (Binary data 6398 bytes, use -b option to extract)\n",
      "Peak Spectral Sensitivity : 10.0 um\n"
     ]
    }
   ],
   "source": [
    "#GET META\n",
    "meta = {}\n",
    "exiftool_path = \"exiftool\"\n",
    "filename = \"AF.jpg\"\n",
    "\n",
    "def extract_float(x):\n",
    "  digits = re.findall(r\"[-+]?\\d*\\.\\d+|\\d+\", x)\n",
    "  return float(digits[0])\n",
    "\n",
    "process = subprocess.Popen([exiftool_path, filename], stdout=subprocess.PIPE, \n",
    "                           stderr=subprocess.STDOUT, universal_newlines=True) \n",
    "for tag in process.stdout:\n",
    "     line = tag.strip().split(':')\n",
    "     meta[line[0].strip()] = line[-1].strip()\n",
    "\n",
    "for k,v in meta.items():\n",
    "    print(k,':', v)"
   ]
  },
  {
   "cell_type": "code",
   "execution_count": 115,
   "id": "1d8f20fa-347e-4c59-8752-0996d16d7759",
   "metadata": {},
   "outputs": [],
   "source": [
    "#TEMP CONVERSION\n",
    "#meta FLIRONEPRO\n",
    "def raw2temp(raw, \n",
    "             E=extract_float(meta[\"Emissivity\"]), \n",
    "             OD=extract_float(meta[\"Object Distance\"]), \n",
    "             RTemp=extract_float(meta[\"Reflected Apparent Temperature\"]), \n",
    "             ATemp=extract_float(meta[\"Atmospheric Temperature\"]), \n",
    "             IRWTemp=extract_float(meta[\"IR Window Temperature\"]), \n",
    "             IRT=extract_float(meta[\"IR Window Transmission\"]), \n",
    "             RH=extract_float(meta[\"Relative Humidity\"]), \n",
    "             PR1=float(meta[\"Planck R1\"]), \n",
    "             PB=float(meta[\"Planck B\"]), \n",
    "             PF=float(meta[\"Planck F\"]), \n",
    "             PO=float(meta[\"Planck O\"]),\n",
    "             PR2=float(meta[\"Planck R2\"])):\n",
    "    \"\"\"\n",
    "    convert raw values from the flir sensor to temperatures in C\n",
    "    # this calculation has been ported to python from\n",
    "    # https://github.com/gtatters/Thermimage/blob/master/R/raw2temp.R\n",
    "    # a detailed explanation of what is going on here can be found there\n",
    "    \"\"\"\n",
    "\n",
    "    # constants\n",
    "    ATA1 = float(meta[\"Atmospheric Trans Alpha 1\"])\n",
    "    ATA2 = float(meta[\"Atmospheric Trans Alpha 2\"])\n",
    "    ATB1 = float(meta[\"Atmospheric Trans Beta 1\"])\n",
    "    ATB2 = float(meta[\"Atmospheric Trans Beta 2\"])\n",
    "    ATX =  float(meta[\"Atmospheric Trans X\"])\n",
    "\n",
    "    # transmission through window (calibrated)\n",
    "    emiss_wind = 1 - IRT\n",
    "    refl_wind = 0\n",
    "\n",
    "    # transmission through the air\n",
    "    h2o = (RH / 100) * exp(1.5587 + 0.06939 * (ATemp) - 0.00027816 * (ATemp) ** 2 + 0.00000068455 * (ATemp) ** 3)\n",
    "    tau1 = ATX * exp(-sqrt(OD / 2) * (ATA1 + ATB1 * sqrt(h2o))) + (1 - ATX) * exp(\n",
    "        -sqrt(OD / 2) * (ATA2 + ATB2 * sqrt(h2o)))\n",
    "    tau2 = ATX * exp(-sqrt(OD / 2) * (ATA1 + ATB1 * sqrt(h2o))) + (1 - ATX) * exp(\n",
    "        -sqrt(OD / 2) * (ATA2 + ATB2 * sqrt(h2o)))\n",
    "\n",
    "    # radiance from the environment\n",
    "    raw_refl1 = PR1 / (PR2 * (exp(PB / (RTemp + 273.15)) - PF)) - PO\n",
    "    raw_refl1_attn = (1 - E) / E * raw_refl1\n",
    "    raw_atm1 = PR1 / (PR2 * (exp(PB / (ATemp + 273.15)) - PF)) - PO\n",
    "    raw_atm1_attn = (1 - tau1) / E / tau1 * raw_atm1\n",
    "    raw_wind = PR1 / (PR2 * (exp(PB / (IRWTemp + 273.15)) - PF)) - PO\n",
    "    raw_wind_attn = emiss_wind / E / tau1 / IRT * raw_wind\n",
    "    raw_refl2 = PR1 / (PR2 * (exp(PB / (RTemp + 273.15)) - PF)) - PO\n",
    "    raw_refl2_attn = refl_wind / E / tau1 / IRT * raw_refl2\n",
    "    raw_atm2 = PR1 / (PR2 * (exp(PB / (ATemp + 273.15)) - PF)) - PO\n",
    "    raw_atm2_attn = (1 - tau2) / E / tau1 / IRT / tau2 * raw_atm2\n",
    "    raw_obj = (raw / E / tau1 / IRT / tau2 - raw_atm1_attn -\n",
    "               raw_atm2_attn - raw_wind_attn - raw_refl1_attn - raw_refl2_attn)\n",
    "\n",
    "    # temperature from radiance\n",
    "    temp_celcius = PB / log(PR1 / (PR2 * (raw_obj + PO)) + PF) - 273.15\n",
    "    return temp_celcius"
   ]
  },
  {
   "cell_type": "code",
   "execution_count": 116,
   "id": "7684ee4f-063e-4726-9d81-4aaa33b6ef7f",
   "metadata": {},
   "outputs": [],
   "source": [
    "raw2temp_vec = np.vectorize(raw2temp)"
   ]
  },
  {
   "cell_type": "code",
   "execution_count": 117,
   "id": "e1a414cb-ec18-436f-873b-d218327b54b7",
   "metadata": {},
   "outputs": [
    {
     "data": {
      "application/vnd.jupyter.widget-view+json": {
       "model_id": "503bb1ed42cd492dba229899c18cda0c",
       "version_major": 2,
       "version_minor": 0
      },
      "text/plain": [
       "  0%|          | 0/2 [00:00<?, ?it/s]"
      ]
     },
     "metadata": {},
     "output_type": "display_data"
    }
   ],
   "source": [
    "temp_images = []\n",
    "for f in tqdm(glob.glob(\"*.png\")):\n",
    "    image = cv2.imread(f, -1)\n",
    " \n",
    "    img_temp = raw2temp_vec(image)\n",
    "    temp_images.append(np.array(img_temp)) \n"
   ]
  },
  {
   "cell_type": "code",
   "execution_count": 56,
   "id": "188c995f-d94c-4ef0-b7a3-c09419cbbe51",
   "metadata": {},
   "outputs": [
    {
     "data": {
      "application/vnd.jupyter.widget-view+json": {
       "model_id": "d59989cf1a0349d3a4f3e0ccece6e903",
       "version_major": 2,
       "version_minor": 0
      },
      "text/plain": [
       "  0%|          | 0/2 [00:00<?, ?it/s]"
      ]
     },
     "metadata": {},
     "output_type": "display_data"
    },
    {
     "ename": "AttributeError",
     "evalue": "'dict' object has no attribute 'append'",
     "output_type": "error",
     "traceback": [
      "\u001b[1;31m---------------------------------------------------------------------------\u001b[0m",
      "\u001b[1;31mAttributeError\u001b[0m                            Traceback (most recent call last)",
      "\u001b[1;32m~\\AppData\\Local\\Temp\\ipykernel_20660\\850419835.py\u001b[0m in \u001b[0;36m<module>\u001b[1;34m\u001b[0m\n\u001b[0;32m      1\u001b[0m \u001b[0mtemp_images\u001b[0m \u001b[1;33m=\u001b[0m \u001b[1;33m{\u001b[0m\u001b[1;33m}\u001b[0m\u001b[1;33m\u001b[0m\u001b[1;33m\u001b[0m\u001b[0m\n\u001b[0;32m      2\u001b[0m \u001b[1;32mfor\u001b[0m \u001b[0mf\u001b[0m \u001b[1;32min\u001b[0m \u001b[0mtqdm\u001b[0m\u001b[1;33m(\u001b[0m\u001b[0mglob\u001b[0m\u001b[1;33m.\u001b[0m\u001b[0mglob\u001b[0m\u001b[1;33m(\u001b[0m\u001b[1;34m\"*.jpg\"\u001b[0m\u001b[1;33m)\u001b[0m\u001b[1;33m)\u001b[0m\u001b[1;33m:\u001b[0m\u001b[1;33m\u001b[0m\u001b[1;33m\u001b[0m\u001b[0m\n\u001b[1;32m----> 3\u001b[1;33m     \u001b[0mtemp_images\u001b[0m\u001b[1;33m.\u001b[0m\u001b[0mappend\u001b[0m\u001b[1;33m(\u001b[0m\u001b[0mnp\u001b[0m\u001b[1;33m.\u001b[0m\u001b[0marray\u001b[0m\u001b[1;33m(\u001b[0m\u001b[0mextract_meta\u001b[0m\u001b[1;33m(\u001b[0m\u001b[0mf\u001b[0m\u001b[1;33m)\u001b[0m\u001b[1;33m)\u001b[0m\u001b[1;33m)\u001b[0m\u001b[1;33m\u001b[0m\u001b[1;33m\u001b[0m\u001b[0m\n\u001b[0m",
      "\u001b[1;31mAttributeError\u001b[0m: 'dict' object has no attribute 'append'"
     ]
    }
   ],
   "source": [
    "temp_images = \n",
    "for f in tqdm(glob.glob(\"*.jpg\")):\n",
    "    temp_images.append(np.array(extract_meta(f)))"
   ]
  }
 ],
 "metadata": {
  "kernelspec": {
   "display_name": "Python 3 (ipykernel)",
   "language": "python",
   "name": "python3"
  },
  "language_info": {
   "codemirror_mode": {
    "name": "ipython",
    "version": 3
   },
   "file_extension": ".py",
   "mimetype": "text/x-python",
   "name": "python",
   "nbconvert_exporter": "python",
   "pygments_lexer": "ipython3",
   "version": "3.8.8"
  }
 },
 "nbformat": 4,
 "nbformat_minor": 5
}
